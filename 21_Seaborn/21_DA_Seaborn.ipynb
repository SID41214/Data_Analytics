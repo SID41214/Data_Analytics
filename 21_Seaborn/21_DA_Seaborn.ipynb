{
  "nbformat": 4,
  "nbformat_minor": 0,
  "metadata": {
    "colab": {
      "name": "21_DA_Seaborn.ipynb",
      "provenance": [],
      "collapsed_sections": []
    },
    "kernelspec": {
      "name": "python3",
      "display_name": "Python 3"
    },
    "language_info": {
      "name": "python"
    }
  },
  "cells": [
    {
      "cell_type": "markdown",
      "metadata": {
        "id": "tT1dKGUpOtLK"
      },
      "source": [
        "# 21_Seaborn_DataVisualization"
      ]
    },
    {
      "cell_type": "markdown",
      "metadata": {
        "id": "WtIF2hbgZQB4"
      },
      "source": [
        "### Import Library"
      ]
    },
    {
      "cell_type": "code",
      "metadata": {
        "id": "dmEdARG_ORZd"
      },
      "source": [
        "!pip install seaborn\n",
        "import seaborn as sns\n",
        "seaborn.__version__"
      ],
      "execution_count": null,
      "outputs": []
    },
    {
      "cell_type": "markdown",
      "metadata": {
        "id": "DJiSw87ubkda"
      },
      "source": [
        "###Load Dataset"
      ]
    },
    {
      "cell_type": "code",
      "metadata": {
        "id": "H2ChyGigb-FQ"
      },
      "source": [
        "import pandas as pd\n",
        "import seaborn as sns\n",
        "dataset = pd.read_csv('data.csv')"
      ],
      "execution_count": null,
      "outputs": []
    },
    {
      "cell_type": "markdown",
      "metadata": {
        "id": "k1sB0Z6MCDPo"
      },
      "source": [
        "###1_Statistical Relationship - Scatter Plot"
      ]
    },
    {
      "cell_type": "code",
      "metadata": {
        "id": "etjETgLFc_9O"
      },
      "source": [
        "sns.relplot(x='hours',y='marks',hue='age',data=dataset)"
      ],
      "execution_count": null,
      "outputs": []
    },
    {
      "cell_type": "markdown",
      "metadata": {
        "id": "kytHnd2xCIDq"
      },
      "source": [
        "###1_Statistical Relationship - Line Plot"
      ]
    },
    {
      "cell_type": "code",
      "metadata": {
        "id": "xZSd-5_cbjmV"
      },
      "source": [
        "sns.relplot(x='hours',y='marks',hue='age',data=dataset,kind=\"line\",style=\"internet\")"
      ],
      "execution_count": null,
      "outputs": []
    },
    {
      "cell_type": "markdown",
      "metadata": {
        "id": "a3ZB-3gnEOMH"
      },
      "source": [
        "###1_Statistical Relationship - Multiple"
      ]
    },
    {
      "cell_type": "code",
      "metadata": {
        "id": "p9zcKc7AfQr5"
      },
      "source": [
        "sns.relplot(x='hours',y='marks',hue='age',data=dataset,col=\"internet\")"
      ],
      "execution_count": null,
      "outputs": []
    },
    {
      "cell_type": "markdown",
      "metadata": {
        "id": "197HraBFf534"
      },
      "source": [
        "###2_Data Distribution - Histogram"
      ]
    },
    {
      "cell_type": "code",
      "metadata": {
        "id": "dOoG9Eu3f_6d"
      },
      "source": [
        "sns.displot(dataset, x=\"age\", binwidth=0.5, hue=\"internet\")"
      ],
      "execution_count": null,
      "outputs": []
    },
    {
      "cell_type": "code",
      "metadata": {
        "id": "AJSKqUxgFx3F"
      },
      "source": [
        "sns.displot(dataset, x=\"age\", bins = [10,11,12,13,14,15,16,17,18,19,20])"
      ],
      "execution_count": null,
      "outputs": []
    },
    {
      "cell_type": "markdown",
      "metadata": {
        "id": "n77KN4nKGrnW"
      },
      "source": [
        "###2_Data Distribution - Multiple"
      ]
    },
    {
      "cell_type": "code",
      "metadata": {
        "id": "fkY5_aHkGuyZ"
      },
      "source": [
        "sns.displot(dataset, x=\"marks\", col=\"internet\")"
      ],
      "execution_count": null,
      "outputs": []
    },
    {
      "cell_type": "markdown",
      "metadata": {
        "id": "EOvoRMP_ZWHy"
      },
      "source": [
        "###2_Data Distribution - Bivariate distributions"
      ]
    },
    {
      "cell_type": "code",
      "metadata": {
        "id": "qZ-CmzZlaXrK"
      },
      "source": [
        "sns.displot(dataset, x=\"age\", y=\"marks\",hue=\"internet\")"
      ],
      "execution_count": null,
      "outputs": []
    },
    {
      "cell_type": "markdown",
      "metadata": {
        "id": "ZMjfxY0aJVrQ"
      },
      "source": [
        "###2_Data Distribution - Kernel Density Estimation"
      ]
    },
    {
      "cell_type": "code",
      "metadata": {
        "id": "woaFjYiQI5xc"
      },
      "source": [
        "sns.displot(dataset, x=\"age\", y=\"marks\",kind=\"kde\",hue=\"internet\")"
      ],
      "execution_count": null,
      "outputs": []
    },
    {
      "cell_type": "markdown",
      "metadata": {
        "id": "UL7Hduo4clxz"
      },
      "source": [
        "###2_Data Distribution - Pair Plot\n"
      ]
    },
    {
      "cell_type": "code",
      "metadata": {
        "id": "p8RELX6XcokR"
      },
      "source": [
        "sns.pairplot(dataset)"
      ],
      "execution_count": null,
      "outputs": []
    },
    {
      "cell_type": "markdown",
      "metadata": {
        "id": "zK3u353yw9Dz"
      },
      "source": [
        "###3_Categorical Data - Scatterplot"
      ]
    },
    {
      "cell_type": "code",
      "metadata": {
        "id": "02MULponee_q"
      },
      "source": [
        "sns.catplot(x=\"age\", y=\"marks\", data=dataset, hue=\"internet\")"
      ],
      "execution_count": null,
      "outputs": []
    },
    {
      "cell_type": "markdown",
      "metadata": {
        "id": "Vs1rO5ksywef"
      },
      "source": [
        "###3_Categorical Data - Box Plot\n"
      ]
    },
    {
      "cell_type": "code",
      "metadata": {
        "id": "UrPZdng7emQG"
      },
      "source": [
        "sns.catplot(x=\"age\", y=\"marks\", kind=\"box\", data=dataset, hue=\"internet\")"
      ],
      "execution_count": null,
      "outputs": []
    },
    {
      "cell_type": "markdown",
      "metadata": {
        "id": "uGSndKMN2zG1"
      },
      "source": [
        "###Regression Output"
      ]
    },
    {
      "cell_type": "code",
      "metadata": {
        "id": "nJuMrZLJ21ht"
      },
      "source": [
        "sns.regplot(x=\"marks\", y=\"hours\", data=dataset);"
      ],
      "execution_count": null,
      "outputs": []
    },
    {
      "cell_type": "code",
      "metadata": {
        "id": "BUe3WMEoMA3M"
      },
      "source": [
        "sns.lmplot(x=\"marks\", y=\"hours\", data=dataset,hue=\"internet\",markers=[\"o\", \"x\"], palette=\"Set1\");"
      ],
      "execution_count": null,
      "outputs": []
    },
    {
      "cell_type": "markdown",
      "metadata": {
        "id": "jXnsfr8XNpyM"
      },
      "source": [
        "### Using SNS theme in other graph"
      ]
    },
    {
      "cell_type": "code",
      "metadata": {
        "id": "v-z4JTX3NuWq"
      },
      "source": [
        "import numpy as np\n",
        "import matplotlib.pyplot as plt\n",
        "def sinplot(flip=1):\n",
        "    x = np.linspace(0, 14, 100)\n",
        "    for i in range(1, 10):\n",
        "        plt.plot(x, np.sin(x + i * .5) * (7 - i) * flip)\n",
        "sns.set_context(\"paper\") #talk/poster/paper\n",
        "sinplot()      "
      ],
      "execution_count": null,
      "outputs": []
    }
  ]
}