{
  "nbformat": 4,
  "nbformat_minor": 0,
  "metadata": {
    "colab": {
      "name": "18_DA_Numpy_Python.ipynb",
      "provenance": [],
      "collapsed_sections": []
    },
    "kernelspec": {
      "name": "python3",
      "display_name": "Python 3"
    },
    "language_info": {
      "name": "python"
    }
  },
  "cells": [
    {
      "cell_type": "markdown",
      "metadata": {
        "id": "t6DNqVVxHOtq"
      },
      "source": [
        "# 18_Numpy_Python"
      ]
    },
    {
      "cell_type": "code",
      "metadata": {
        "id": "rZjf03q15OuN"
      },
      "source": [
        "!pip install numpy"
      ],
      "execution_count": null,
      "outputs": []
    },
    {
      "cell_type": "code",
      "metadata": {
        "id": "hl2QG0SZHKcw"
      },
      "source": [
        "import numpy as np\n",
        "numpy.__version__"
      ],
      "execution_count": null,
      "outputs": []
    },
    {
      "cell_type": "markdown",
      "metadata": {
        "id": "IXhMuYaUHenj"
      },
      "source": [
        "### Array Initialization - Single Dimension"
      ]
    },
    {
      "cell_type": "code",
      "metadata": {
        "id": "_2eVwQH0HhR7"
      },
      "source": [
        "import numpy as np\n",
        "a = np.array([7,9,9,2])\n",
        "print(a)"
      ],
      "execution_count": null,
      "outputs": []
    },
    {
      "cell_type": "markdown",
      "metadata": {
        "id": "i6fuZ-qrHyrM"
      },
      "source": [
        "### Array Initialization - Multi Dimension"
      ]
    },
    {
      "cell_type": "code",
      "metadata": {
        "id": "p65Je-lbH0x4"
      },
      "source": [
        "import numpy as np\n",
        "b = np.array([(7,9,9,2),(16,11,9,6)])\n",
        "print(b)"
      ],
      "execution_count": null,
      "outputs": []
    },
    {
      "cell_type": "markdown",
      "metadata": {
        "id": "sroeCMVYPITu"
      },
      "source": [
        "###Generating Array\n"
      ]
    },
    {
      "cell_type": "code",
      "metadata": {
        "id": "DolPJ583PLiE"
      },
      "source": [
        "c = np.arange(10) #range of values in array\n",
        "d = np.linspace(1,5,10) #set of values by Interval [start,end,no.ofvaluesEqualInterval]\n",
        "print(c)\n",
        "print(d)"
      ],
      "execution_count": null,
      "outputs": []
    },
    {
      "cell_type": "markdown",
      "metadata": {
        "id": "AyYOC74rIREe"
      },
      "source": [
        "### Array Properties"
      ]
    },
    {
      "cell_type": "code",
      "metadata": {
        "id": "NNEJ4XrrITX7"
      },
      "source": [
        "a = np.array([7,9,9,2])\n",
        "b = np.array([(7,9,9,2),(16,11,9,6)])\n",
        "print(b.ndim) #Dimension of Array\n",
        "print(a.itemsize) #Byte Size of each Element\n",
        "print(a.dtype) #Datatype of array\n",
        "print(b.size*b.itemsize) #memory occupied - space occupied by 1 element * length of numpy array\n",
        "print(a.size) #number of elements in array\n",
        "print(b.shape) #shape of array (rows and columns)"
      ],
      "execution_count": null,
      "outputs": []
    },
    {
      "cell_type": "markdown",
      "metadata": {
        "id": "Rkh3OZ3FLpfh"
      },
      "source": [
        "### Array Reshape"
      ]
    },
    {
      "cell_type": "code",
      "metadata": {
        "id": "xjnDAc0BKwEF"
      },
      "source": [
        "b = np.array([(7,9,9,2),(16,11,9,6)])\n",
        "print(b)\n",
        "b = b.reshape(4,2)\n",
        "print(b)"
      ],
      "execution_count": null,
      "outputs": []
    },
    {
      "cell_type": "markdown",
      "metadata": {
        "id": "SdqVKe-jNLf2"
      },
      "source": [
        "### Array Slicing"
      ]
    },
    {
      "cell_type": "code",
      "metadata": {
        "id": "rkljWbnBNNaD"
      },
      "source": [
        "b = np.array([(7,9,9,2),(16,11,9,6)])\n",
        "print(b[0,2]) #Slicing the Element from certain row and certain column b[rowIndex,ColumnIndex]\n",
        "print(b[0:,2]) #Slicing Element from all rows and certain column"
      ],
      "execution_count": null,
      "outputs": []
    },
    {
      "cell_type": "markdown",
      "metadata": {
        "id": "_LISwvNFPBQg"
      },
      "source": [
        "### Array Value Operation"
      ]
    },
    {
      "cell_type": "code",
      "metadata": {
        "id": "YaJb5obGQM-7"
      },
      "source": [
        "e = np.array([7,9,9,2,16,11,96]) \n",
        "print(e.min()) #Minimum value in array\n",
        "print(e.max()) #Maximum value in array\n",
        "print(e.sum()) #Sum of array"
      ],
      "execution_count": null,
      "outputs": []
    },
    {
      "cell_type": "markdown",
      "metadata": {
        "id": "KGnP7tXpRAkl"
      },
      "source": [
        "###Array Arithmetic Operation\n"
      ]
    },
    {
      "cell_type": "code",
      "metadata": {
        "id": "7iBbvnQ2UU0N"
      },
      "source": [
        "a = np.array([7,9,9,2])\n",
        "c = np.array([1,9,9,6])\n",
        "print(a+c)\n",
        "print(a-c)\n",
        "print(a*c)\n",
        "print(a/c)"
      ],
      "execution_count": null,
      "outputs": []
    },
    {
      "cell_type": "code",
      "metadata": {
        "id": "EQpGxHtCRFsa"
      },
      "source": [
        "a = np.array([7,9,9,2])\n",
        "b = np.array([(7,9,9,2),(16,11,9,6)])\n",
        "print(b.sum(axis=0)) #Each element of 1st dim array with same index with another dim element\n",
        "print(b.sum(axis=1)) #sum of all element is 1st dim & sum of all element is 2nd dim\n",
        "print(np.sqrt(a)) #Squareroot of array elements\n",
        "print(np.std(a)) #Standard Deviation of array\n",
        "print(np.exp(a)) #Exponential of array\n",
        "print(np.log(a)) #Natural Log - ln\n",
        "print(np.log10(a)) #Log base 10"
      ],
      "execution_count": null,
      "outputs": []
    },
    {
      "cell_type": "code",
      "metadata": {
        "id": "XLjEwsbJU73X"
      },
      "source": [
        "b = np.array([(7,9,9,2),(16,11,9,6)])\n",
        "f = np.array([(1,2,3,4),(5,6,7,8)])\n",
        "print(np.vstack((b,f))) #Vertical Stack\n",
        "print(np.hstack((b,f))) #Horizontal Stack\n",
        "print(b.ravel()) #Merging as single"
      ],
      "execution_count": null,
      "outputs": []
    }
  ]
}