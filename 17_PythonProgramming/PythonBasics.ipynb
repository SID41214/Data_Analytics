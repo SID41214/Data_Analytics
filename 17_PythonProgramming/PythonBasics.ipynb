{
  "nbformat": 4,
  "nbformat_minor": 0,
  "metadata": {
    "colab": {
      "name": "PythonBasics.ipynb",
      "provenance": [],
      "collapsed_sections": []
    },
    "kernelspec": {
      "name": "python3",
      "display_name": "Python 3"
    },
    "language_info": {
      "name": "python"
    }
  },
  "cells": [
    {
      "cell_type": "markdown",
      "metadata": {
        "id": "6KaqnFuqvW4B"
      },
      "source": [
        "# Python Basics"
      ]
    },
    {
      "cell_type": "code",
      "metadata": {
        "id": "94pXl4b1t-JU",
        "colab": {
          "base_uri": "https://localhost:8080/"
        },
        "outputId": "4bebdf55-f034-44ba-ceb7-eb9fcd2926b2"
      },
      "source": [
        "print (\"Hello Champs\")"
      ],
      "execution_count": 132,
      "outputs": [
        {
          "output_type": "stream",
          "text": [
            "Hello Champs\n"
          ],
          "name": "stdout"
        }
      ]
    },
    {
      "cell_type": "markdown",
      "metadata": {
        "id": "zAjOHW7JvnR_"
      },
      "source": [
        "### Variable & Types"
      ]
    },
    {
      "cell_type": "code",
      "metadata": {
        "id": "t4Eh45v8xYUZ",
        "colab": {
          "base_uri": "https://localhost:8080/"
        },
        "outputId": "44233b71-024e-46b0-bef3-85dbd72d49d1"
      },
      "source": [
        "z = 5.4\n",
        "print(type(z))"
      ],
      "execution_count": 135,
      "outputs": [
        {
          "output_type": "stream",
          "text": [
            "<class 'float'>\n"
          ],
          "name": "stdout"
        }
      ]
    },
    {
      "cell_type": "code",
      "metadata": {
        "id": "sKezP97FvpwB",
        "colab": {
          "base_uri": "https://localhost:8080/"
        },
        "outputId": "f0357965-3c83-4ae7-f290-592b38cbe2cc"
      },
      "source": [
        "a = 5\n",
        "b = \"Champ\"\n",
        "c = [1,2,3]\n",
        "d = 5.2\n",
        "%whos"
      ],
      "execution_count": 136,
      "outputs": [
        {
          "output_type": "stream",
          "text": [
            "Variable       Type        Data/Info\n",
            "------------------------------------\n",
            "a              int         5\n",
            "arith          function    <function arith at 0x7f17861d88c0>\n",
            "b              str         Champ\n",
            "c              list        n=3\n",
            "cleanData      list        n=2\n",
            "d              float       5.2\n",
            "data           str         Hello Champs\n",
            "data2          str          Hello,Champs \n",
            "data3          str         C:\\Documents\files\n",
            "display        function    <function display at 0x7f17862400e0>\n",
            "height         float       5.5\n",
            "i              str         Weight\n",
            "info           function    <function info at 0x7f1786202ef0>\n",
            "name           str         Sanjay\n",
            "numList        list        n=6\n",
            "numlist        list        n=6\n",
            "result         tuple       n=3\n",
            "strList        dict        n=3\n",
            "strippedData   str         Hello,Champs\n",
            "sum            int         0\n",
            "typeCheck      function    <function typeCheck at 0x7f17861f8b00>\n",
            "var            str         Hello Champs\n",
            "var1           int         20\n",
            "var2           int         10\n",
            "x              int         10\n",
            "y              int         5\n",
            "yearofbirth    int         1996\n",
            "z              float       5.4\n"
          ],
          "name": "stdout"
        }
      ]
    },
    {
      "cell_type": "code",
      "metadata": {
        "id": "j2KmzoHdxwKl"
      },
      "source": [
        "'''a = 5\n",
        "b = \"Champ\"\n",
        "c = [1,2,3]'''\n",
        "d = 5.2\n",
        "del d"
      ],
      "execution_count": 137,
      "outputs": []
    },
    {
      "cell_type": "markdown",
      "metadata": {
        "id": "DWYB5bDYxzUa"
      },
      "source": [
        "# Operator - Arithmetic"
      ]
    },
    {
      "cell_type": "code",
      "metadata": {
        "id": "pdeaj233x1OL",
        "colab": {
          "base_uri": "https://localhost:8080/"
        },
        "outputId": "54a884a0-5e5b-49fe-ebc3-d41abf5f1822"
      },
      "source": [
        "a=10\n",
        "b=5\n",
        "print(\"a+b: \",a+b)\n",
        "print(\"a-b: \",a-b)\n",
        "print(\"a/b: \",a/b)\n",
        "print(\"a%b: \",a%b) #\n",
        "print(\"a*b: \",a*b)\n",
        "print(\"a//b: \",a//b)\n",
        "print(\"a**b: \",a**b) #pow(a,b) #power"
      ],
      "execution_count": 138,
      "outputs": [
        {
          "output_type": "stream",
          "text": [
            "a+b:  15\n",
            "a-b:  5\n",
            "a/b:  2.0\n",
            "a%b:  0\n",
            "a*b:  50\n",
            "a//b:  2\n",
            "a**b:  100000\n"
          ],
          "name": "stdout"
        }
      ]
    },
    {
      "cell_type": "markdown",
      "metadata": {
        "id": "ZqPec6K6zal8"
      },
      "source": [
        "# Operator -  Boolean"
      ]
    },
    {
      "cell_type": "code",
      "metadata": {
        "id": "_Imh96b30pHz",
        "colab": {
          "base_uri": "https://localhost:8080/"
        },
        "outputId": "49952de8-4b5c-4be9-d064-e9ecd4aab449"
      },
      "source": [
        "a=False\n",
        "b=True\n",
        "print(type(a))\n",
        "print(type(b)) \n",
        "print((a and b) != (a or b)) "
      ],
      "execution_count": 139,
      "outputs": [
        {
          "output_type": "stream",
          "text": [
            "<class 'bool'>\n",
            "<class 'bool'>\n",
            "True\n"
          ],
          "name": "stdout"
        }
      ]
    },
    {
      "cell_type": "markdown",
      "metadata": {
        "id": "8Tf9IRt01Qyd"
      },
      "source": [
        "# Operator - Comparison"
      ]
    },
    {
      "cell_type": "code",
      "metadata": {
        "id": "Y2oUN8ydzfBv",
        "colab": {
          "base_uri": "https://localhost:8080/"
        },
        "outputId": "bbd08dd2-5016-48c4-b9b4-dd5f3cc449b4"
      },
      "source": [
        "x=10\n",
        "y=5\n",
        "print(\"x less than y: \",x<y)\n",
        "print(\"x greater than y: \",x>y)\n",
        "print(\"x equivalent to y: \",x==y)\n",
        "print(\"x not equal to y: \",x!=y)\n",
        "print(\"x less than or equal to y: \",x<=y)\n",
        "print(\"x greater than equal to y: \",x>=y)"
      ],
      "execution_count": 140,
      "outputs": [
        {
          "output_type": "stream",
          "text": [
            "x less than y:  False\n",
            "x greater than y:  True\n",
            "x equivalent to y:  False\n",
            "x not equal to y:  True\n",
            "x less than or equal to y:  False\n",
            "x greater than equal to y:  True\n"
          ],
          "name": "stdout"
        }
      ]
    },
    {
      "cell_type": "markdown",
      "metadata": {
        "id": "N8s8hvUs2_E2"
      },
      "source": [
        "#Getting Input from user"
      ]
    },
    {
      "cell_type": "code",
      "metadata": {
        "id": "tY11UDHF3B5c",
        "colab": {
          "base_uri": "https://localhost:8080/"
        },
        "outputId": "52fad802-6231-40ab-e169-9d850d7fe186"
      },
      "source": [
        "name = str(input(\"Enter your name: \"))\n",
        "yearofbirth = int(input(\"Enter your year of Birth: \"))\n",
        "height = float(input(\"Enter your Height: \"))\n",
        "print(\"Name: {0}| YearOfBirth: {1}| Height: {2}\".format(name,yearofbirth,height))"
      ],
      "execution_count": 143,
      "outputs": [
        {
          "output_type": "stream",
          "text": [
            "Enter your name: CHamp\n",
            "Enter your year of Birth: 1995\n",
            "Enter your Height: 5.6\n",
            "Name: CHamp| YearOfBirth: 1995| Height: 5.6\n"
          ],
          "name": "stdout"
        }
      ]
    },
    {
      "cell_type": "markdown",
      "metadata": {
        "id": "yy-FyBGl4w2m"
      },
      "source": [
        "# If Condition"
      ]
    },
    {
      "cell_type": "code",
      "metadata": {
        "id": "ga_IJ1gm4zW6",
        "colab": {
          "base_uri": "https://localhost:8080/"
        },
        "outputId": "20337668-9f6c-4b3f-df05-28391c29a557"
      },
      "source": [
        "a = 5\n",
        "b = 5\n",
        "if a<=b:\n",
        "  print(\"a is less than b\")\n",
        "elif a==b:\n",
        "  print(\"a is equal to b\")\n",
        "  print(\"a is not less than b\")\n",
        "  print(\"a is not greater than b\")\n",
        "else:\n",
        "  print(\"a is greater than or equal to b\")"
      ],
      "execution_count": 145,
      "outputs": [
        {
          "output_type": "stream",
          "text": [
            "a is equal to b\n",
            "a is not less than b\n",
            "a is not greater than b\n"
          ],
          "name": "stdout"
        }
      ]
    },
    {
      "cell_type": "markdown",
      "metadata": {
        "id": "nPkRHVje5XpC"
      },
      "source": [
        "# While "
      ]
    },
    {
      "cell_type": "code",
      "metadata": {
        "id": "CcQpgpaY5ZKk",
        "colab": {
          "base_uri": "https://localhost:8080/"
        },
        "outputId": "9af61414-0a83-4ad6-a7fb-201b028656d0"
      },
      "source": [
        "i = 0\n",
        "while i<5:\n",
        "  print(i)\n",
        "  i+=1 #i=i+1"
      ],
      "execution_count": 147,
      "outputs": [
        {
          "output_type": "stream",
          "text": [
            "0\n",
            "1\n",
            "2\n",
            "3\n",
            "4\n",
            "5\n"
          ],
          "name": "stdout"
        }
      ]
    },
    {
      "cell_type": "code",
      "metadata": {
        "id": "bk_T-LqZAS2N",
        "colab": {
          "base_uri": "https://localhost:8080/"
        },
        "outputId": "a3ccf7e4-2983-4fea-a902-59fe06af34f7"
      },
      "source": [
        "i = 1\n",
        "while True:\n",
        "  if i%10 !=0:\n",
        "    print(\"Checking...\")\n",
        "    i+=1\n",
        "    continue\n",
        "  print(\"If-Completed\")\n",
        "  break\n",
        "print(\"Completed\")"
      ],
      "execution_count": 149,
      "outputs": [
        {
          "output_type": "stream",
          "text": [
            "Checking...\n",
            "Checking...\n",
            "Checking...\n",
            "Checking...\n",
            "Checking...\n",
            "Checking...\n",
            "Checking...\n",
            "Checking...\n",
            "Checking...\n",
            "If-Completed\n",
            "Completed\n"
          ],
          "name": "stdout"
        }
      ]
    },
    {
      "cell_type": "markdown",
      "metadata": {
        "id": "nipUJafbBZwB"
      },
      "source": [
        "# For "
      ]
    },
    {
      "cell_type": "code",
      "metadata": {
        "id": "tQbAt0l9Ad2m",
        "colab": {
          "base_uri": "https://localhost:8080/"
        },
        "outputId": "68cb5138-076e-4880-be9d-965827c65afe"
      },
      "source": [
        "for i in range(5):\n",
        "  print(i)"
      ],
      "execution_count": 150,
      "outputs": [
        {
          "output_type": "stream",
          "text": [
            "0\n",
            "1\n",
            "2\n",
            "3\n",
            "4\n"
          ],
          "name": "stdout"
        }
      ]
    },
    {
      "cell_type": "code",
      "metadata": {
        "id": "a27z-0H8BnDY",
        "colab": {
          "base_uri": "https://localhost:8080/"
        },
        "outputId": "bf4dd09d-d6d7-4f20-cf1c-475bbe94f632"
      },
      "source": [
        "for i in range(1,10,2):\n",
        "  print(i)"
      ],
      "execution_count": 153,
      "outputs": [
        {
          "output_type": "stream",
          "text": [
            "1\n",
            "3\n",
            "5\n",
            "7\n",
            "9\n"
          ],
          "name": "stdout"
        }
      ]
    },
    {
      "cell_type": "code",
      "metadata": {
        "id": "mBxDdOk3Bvpj",
        "colab": {
          "base_uri": "https://localhost:8080/"
        },
        "outputId": "a49c6adb-7f63-4384-9dbe-40e8d401daed"
      },
      "source": [
        "for i in range(10,1,-3):\n",
        "  print(i)"
      ],
      "execution_count": 155,
      "outputs": [
        {
          "output_type": "stream",
          "text": [
            "10\n",
            "7\n",
            "4\n"
          ],
          "name": "stdout"
        }
      ]
    },
    {
      "cell_type": "markdown",
      "metadata": {
        "id": "jUnt7O7bB_P3"
      },
      "source": [
        "# List"
      ]
    },
    {
      "cell_type": "code",
      "metadata": {
        "id": "-siqjmQHCAZx",
        "colab": {
          "base_uri": "https://localhost:8080/"
        },
        "outputId": "25039619-6ddc-43b8-e46c-cf63d4dd05a3"
      },
      "source": [
        "numList = []\n",
        "for i in range (1,10):\n",
        "  print(i)\n",
        "  numList.append(i*16)\n",
        "print(numList)"
      ],
      "execution_count": 156,
      "outputs": [
        {
          "output_type": "stream",
          "text": [
            "1\n",
            "2\n",
            "3\n",
            "4\n",
            "5\n",
            "6\n",
            "7\n",
            "8\n",
            "9\n",
            "[16, 32, 48, 64, 80, 96, 112, 128, 144]\n"
          ],
          "name": "stdout"
        }
      ]
    },
    {
      "cell_type": "code",
      "metadata": {
        "id": "HViAFtMhDt7s",
        "colab": {
          "base_uri": "https://localhost:8080/"
        },
        "outputId": "27da0d58-a2f8-418b-a165-ba3d655d7ddd"
      },
      "source": [
        "strList = {\"Name\":\"sanjay\",\"YOB\":1996,\"Weight\":67}\n",
        "for i in strList:\n",
        "  print(i, strList[i])"
      ],
      "execution_count": 157,
      "outputs": [
        {
          "output_type": "stream",
          "text": [
            "Name sanjay\n",
            "YOB 1996\n",
            "Weight 67\n"
          ],
          "name": "stdout"
        }
      ]
    },
    {
      "cell_type": "markdown",
      "metadata": {
        "id": "SmeM83RRF_kv"
      },
      "source": [
        "# Functions"
      ]
    },
    {
      "cell_type": "code",
      "metadata": {
        "id": "7AgWRl7VGBZ4",
        "colab": {
          "base_uri": "https://localhost:8080/"
        },
        "outputId": "845ab40b-3b05-4e3f-ea8b-d885fbfda5bf"
      },
      "source": [
        "def display():\n",
        "  print(\"Hello Champs\")\n",
        "  print(\"Hai\")\n",
        "\n",
        "display()"
      ],
      "execution_count": 159,
      "outputs": [
        {
          "output_type": "stream",
          "text": [
            "Hello Champs\n",
            "Hai\n"
          ],
          "name": "stdout"
        }
      ]
    },
    {
      "cell_type": "code",
      "metadata": {
        "id": "K7fGAbcdGQ36",
        "colab": {
          "base_uri": "https://localhost:8080/"
        },
        "outputId": "cf9abd3b-6348-4e64-a45b-0003d0f5a4b6"
      },
      "source": [
        "def arith(a,b):\n",
        "  sum = a+b\n",
        "  diff = a-b\n",
        "  div = a/b\n",
        "  print(\"ADD: {0}, SUB: {1}, DIV: {2}\".format(sum,diff,div))\n",
        "\n",
        "var1 = int(input(\"Enter 1st Number: \"))\n",
        "var2 = int(input(\"Enter 2nd Number: \"))\n",
        "arith(var1,var2)"
      ],
      "execution_count": 160,
      "outputs": [
        {
          "output_type": "stream",
          "text": [
            "Enter 1st Number: 10\n",
            "Enter 2nd Number: 5\n",
            "ADD: 15, SUB: 5, DIV: 2.0\n"
          ],
          "name": "stdout"
        }
      ]
    },
    {
      "cell_type": "code",
      "metadata": {
        "id": "xg7kT8knHcS_",
        "colab": {
          "base_uri": "https://localhost:8080/"
        },
        "outputId": "c84ab119-be94-4c26-a1e6-19ed250812c1"
      },
      "source": [
        "def arith(a,b):\n",
        "  sum = a+b\n",
        "  diff = a-b\n",
        "  div = a/b\n",
        "  return sum,diff,div\n",
        "\n",
        "var1 = int(input(\"Enter 1st Number: \"))\n",
        "var2 = int(input(\"Enter 2nd Number: \"))\n",
        "result = arith(var1,var2)\n",
        "print(result)\n",
        "print(\"Difference: \",result[1])"
      ],
      "execution_count": 162,
      "outputs": [
        {
          "output_type": "stream",
          "text": [
            "Enter 1st Number: 10\n",
            "Enter 2nd Number: 5\n",
            "(15, 5, 2.0)\n",
            "Difference:  15\n"
          ],
          "name": "stdout"
        }
      ]
    },
    {
      "cell_type": "code",
      "metadata": {
        "id": "bI5wgU63MhUU",
        "colab": {
          "base_uri": "https://localhost:8080/"
        },
        "outputId": "3ef19904-9bbe-49c7-bbb2-7d00fac2a721"
      },
      "source": [
        "def arith(*data):\n",
        "  sum=0\n",
        "  for i in range(len(data)):\n",
        "    sum = sum+data[i]\n",
        "  return sum\n",
        "\n",
        "a=5\n",
        "b=2\n",
        "c=3\n",
        "print(\"Total: \",arith(a,b,c))"
      ],
      "execution_count": 164,
      "outputs": [
        {
          "output_type": "stream",
          "text": [
            "Total:  10\n"
          ],
          "name": "stdout"
        }
      ]
    },
    {
      "cell_type": "code",
      "metadata": {
        "id": "jzsPhUeOMyFw",
        "colab": {
          "base_uri": "https://localhost:8080/"
        },
        "outputId": "53b0d74a-6465-432a-85d1-9d9eadf9bb59"
      },
      "source": [
        "def info(**data):\n",
        "  for i in data:\n",
        "    print(\"Variable Name is:\",i)\n",
        "    print(\"Variable Value is:\", data[i])\n",
        "\n",
        "info(x=\"Sanjay\",b=24)"
      ],
      "execution_count": 165,
      "outputs": [
        {
          "output_type": "stream",
          "text": [
            "Variable Name is: x\n",
            "Variable Value is: Sanjay\n",
            "Variable Name is: b\n",
            "Variable Value is: 24\n"
          ],
          "name": "stdout"
        }
      ]
    },
    {
      "cell_type": "code",
      "metadata": {
        "id": "UnxNoC6AIIUZ",
        "colab": {
          "base_uri": "https://localhost:8080/"
        },
        "outputId": "56618eab-958f-41c4-e919-4cb6aad68c7e"
      },
      "source": [
        "def typeCheck(valuee):\n",
        "  if isinstance(valuee,str):\n",
        "    print(\"It is String\")\n",
        "  else:\n",
        "    print(\"It is Number\")\n",
        "var = 100\n",
        "typeCheck(var)"
      ],
      "execution_count": 167,
      "outputs": [
        {
          "output_type": "stream",
          "text": [
            "It is Number\n"
          ],
          "name": "stdout"
        }
      ]
    },
    {
      "cell_type": "markdown",
      "metadata": {
        "id": "enYRd0nZRmkD"
      },
      "source": [
        "# String"
      ]
    },
    {
      "cell_type": "code",
      "metadata": {
        "id": "9rF8k9fCRoIH"
      },
      "source": [
        "data = \"Hello Champs\""
      ],
      "execution_count": null,
      "outputs": []
    },
    {
      "cell_type": "code",
      "metadata": {
        "id": "7YnI7xVlRtmS",
        "colab": {
          "base_uri": "https://localhost:8080/"
        },
        "outputId": "c7dcf2e1-1ff7-4b60-f931-fe6b71311043"
      },
      "source": [
        "print(len(data)) #length of data\n",
        "print(data[2]) #letter by its index\n",
        "print(data[:6]) #Until Indexx\n",
        "print(data[3:]) #From Index\n",
        "print(data[1:11]) #From & To Index\n",
        "print(data[::-1]) #reverse by index"
      ],
      "execution_count": 168,
      "outputs": [
        {
          "output_type": "stream",
          "text": [
            "12\n",
            "l\n",
            "Hello \n",
            "lo Champs\n",
            "ello Champ\n",
            "spmahC olleH\n"
          ],
          "name": "stdout"
        }
      ]
    },
    {
      "cell_type": "code",
      "metadata": {
        "id": "V_PFHJpGS4kY",
        "colab": {
          "base_uri": "https://localhost:8080/"
        },
        "outputId": "a42740a1-1996-449a-d0e7-edeb3e038ac1"
      },
      "source": [
        "data2 = \" Hello,Champs \" #data = 12:10:50\n",
        "strippedData = data2.strip() #remove spaces in beginning and end\n",
        "print(strippedData)\n",
        "cleanData = strippedData.split(\",\") #Split data based on Delimitter\n",
        "print(cleanData)\n",
        "print(cleanData[0])\n",
        "print(cleanData[1].upper()) #Changing into uppercase\n",
        "print(cleanData[1].lower()) #Changing into lowercase\n",
        "print(cleanData[1].capitalize()) #Changing into lowercase\n",
        "print(strippedData.replace (\",\",\"*********\")) #replacing "
      ],
      "execution_count": 170,
      "outputs": [
        {
          "output_type": "stream",
          "text": [
            "Hello,Champs\n",
            "['Hello', 'Champs']\n",
            "Hello\n",
            "CHAMPS\n",
            "champs\n",
            "Champs\n",
            "Hello*********Champs\n"
          ],
          "name": "stdout"
        }
      ]
    }
  ]
}