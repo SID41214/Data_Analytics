{
  "nbformat": 4,
  "nbformat_minor": 0,
  "metadata": {
    "colab": {
      "name": "20_DA_Matplotlib.ipynb",
      "provenance": [],
      "collapsed_sections": []
    },
    "kernelspec": {
      "name": "python3",
      "display_name": "Python 3"
    },
    "language_info": {
      "name": "python"
    }
  },
  "cells": [
    {
      "cell_type": "markdown",
      "metadata": {
        "id": "tT1dKGUpOtLK"
      },
      "source": [
        "# 20 Matplotlib"
      ]
    },
    {
      "cell_type": "markdown",
      "metadata": {
        "id": "WtIF2hbgZQB4"
      },
      "source": [
        "### Import Library"
      ]
    },
    {
      "cell_type": "code",
      "metadata": {
        "id": "dmEdARG_ORZd"
      },
      "source": [
        "!pip install matplotlib\n",
        "import matplotlib\n",
        "matplotlib.__version__"
      ],
      "execution_count": null,
      "outputs": []
    },
    {
      "cell_type": "markdown",
      "metadata": {
        "id": "DJiSw87ubkda"
      },
      "source": [
        "###Simple Plot - Line"
      ]
    },
    {
      "cell_type": "code",
      "metadata": {
        "id": "H2ChyGigb-FQ"
      },
      "source": [
        "from matplotlib import pyplot as plt\n",
        "x = [1,2,3,4,5,6,7,8,9]\n",
        "y = [10,2,3,6,4,9,7,4,2]\n",
        "plt.plot(x,y)\n",
        "plt.show()"
      ],
      "execution_count": null,
      "outputs": []
    },
    {
      "cell_type": "code",
      "metadata": {
        "id": "etjETgLFc_9O"
      },
      "source": [
        "from matplotlib import pyplot as plt\n",
        "x = [1,2,3,4,5,6,7,8,9]\n",
        "y = [10,2,3,6,4,9,7,4,2]\n",
        "plt.plot(x,y)\n",
        "plt.title(\"Graph\")\n",
        "plt.xlabel(\"Order\")\n",
        "plt.ylabel(\"Count\")\n",
        "plt.show()"
      ],
      "execution_count": null,
      "outputs": []
    },
    {
      "cell_type": "markdown",
      "metadata": {
        "id": "NzFezGCldcdc"
      },
      "source": [
        "### Double Plot - Line"
      ]
    },
    {
      "cell_type": "code",
      "metadata": {
        "id": "xZSd-5_cbjmV"
      },
      "source": [
        "from matplotlib import pyplot as plt\n",
        "x = [1,2,3,4,5,6,7,8,9]\n",
        "y = [10,2,3,6,4,9,7,4,2]\n",
        "x2 = [1,2,3,4,5,6,7,8,9]\n",
        "y2 = [2,4,7,9,5,3,8,10,2]\n",
        "\n",
        "plt.plot(x,y,'r')\n",
        "plt.plot(x2,y2,'g')\n",
        "\n",
        "plt.plot(x,y,'ro')\n",
        "plt.plot(x2,y2,'go')\n",
        "\n",
        "plt.title(\"Graph\")\n",
        "plt.xlabel(\"Order\")\n",
        "plt.ylabel(\"Count\")\n",
        "plt.show()"
      ],
      "execution_count": null,
      "outputs": []
    },
    {
      "cell_type": "code",
      "metadata": {
        "id": "p9zcKc7AfQr5"
      },
      "source": [
        "from matplotlib import pyplot as plt\n",
        "x = [1,2,3,4,5,6,7,8,9]\n",
        "y = [10,2,3,6,4,9,7,4,2]\n",
        "x2 = [1,2,3,4,5,6,7,8,9]\n",
        "y2 = [2,4,7,9,5,3,8,10,2]\n",
        "\n",
        "plt.plot(x,y,'r',label='Profit',linewidth=5)\n",
        "plt.plot(x2,y2,'g',label='Tax')\n",
        "\n",
        "plt.legend()\n",
        "plt.title(\"Graph\")\n",
        "plt.xlabel(\"Order\")\n",
        "plt.ylabel(\"Count\")\n",
        "plt.show()"
      ],
      "execution_count": null,
      "outputs": []
    },
    {
      "cell_type": "markdown",
      "metadata": {
        "id": "197HraBFf534"
      },
      "source": [
        "###Bar Graph"
      ]
    },
    {
      "cell_type": "code",
      "metadata": {
        "id": "dOoG9Eu3f_6d"
      },
      "source": [
        "from matplotlib import pyplot as plt\n",
        "x = [1,2,3,4,5,6,7,8,9]\n",
        "y = [10,2,3,6,4,9,7,4,2]\n",
        "x2 = [1,2,3,4,5,6,7,8,9]\n",
        "y2 = [2,4,7,9,5,3,8,10,2]\n",
        "\n",
        "plt.bar(x,y,color='b',label='Profit')\n",
        "#plt.bar(x2,y2,color='g',label='Tax')\n",
        "\n",
        "plt.legend()\n",
        "plt.title(\"Graph\")\n",
        "plt.xlabel(\"Order\")\n",
        "plt.ylabel(\"Count\")\n",
        "plt.show()"
      ],
      "execution_count": null,
      "outputs": []
    },
    {
      "cell_type": "markdown",
      "metadata": {
        "id": "EOvoRMP_ZWHy"
      },
      "source": [
        "###Histogram - Bar Graph"
      ]
    },
    {
      "cell_type": "code",
      "metadata": {
        "id": "qZ-CmzZlaXrK"
      },
      "source": [
        "from matplotlib import pyplot as plt\n",
        "age = [24,22,56,76,89,21,9,15,12,18,19,21,46,67,61,7,37,79,14]\n",
        "range = [0,10,20,30,40,50,60,70,80,90,100]\n",
        "plt.hist(age, range)\n",
        "plt.title(\"Graph\")\n",
        "plt.xlabel(\"Order\")\n",
        "plt.ylabel(\"Count\")\n",
        "plt.grid()\n",
        "plt.show()"
      ],
      "execution_count": null,
      "outputs": []
    },
    {
      "cell_type": "markdown",
      "metadata": {
        "id": "UL7Hduo4clxz"
      },
      "source": [
        "###Scatter Plot\n"
      ]
    },
    {
      "cell_type": "code",
      "metadata": {
        "id": "p8RELX6XcokR"
      },
      "source": [
        "from matplotlib import pyplot as plt\n",
        "x = [1,2,3,4,5,6,7,8,9]\n",
        "y = [10,2,3,6,4,9,7,4,2]\n",
        "\n",
        "plt.scatter(x,y,color='r')\n",
        "\n",
        "plt.title(\"Graph\")\n",
        "plt.xlabel(\"Order\")\n",
        "plt.ylabel(\"Count\")\n",
        "plt.show()"
      ],
      "execution_count": null,
      "outputs": []
    },
    {
      "cell_type": "markdown",
      "metadata": {
        "id": "zK3u353yw9Dz"
      },
      "source": [
        "### Pie Chart"
      ]
    },
    {
      "cell_type": "code",
      "metadata": {
        "id": "02MULponee_q"
      },
      "source": [
        "from matplotlib import pyplot as plt\n",
        "x = [80,20,40,50,90,5]\n",
        "y = [\"Math\",\"Physics\",\"Programming\",\"Communication\",\"History\",\"Sports\"]\n",
        "c = ['r','g','c','b','m','y','w','k']\n",
        "\n",
        "plt.pie(x,labels=y,colors=c,autopct='%1.1f%%')\n",
        "\n",
        "plt.title(\"Graph\")\n",
        "plt.show()"
      ],
      "execution_count": null,
      "outputs": []
    },
    {
      "cell_type": "markdown",
      "metadata": {
        "id": "Vs1rO5ksywef"
      },
      "source": [
        "### Subplot"
      ]
    },
    {
      "cell_type": "code",
      "metadata": {
        "id": "UrPZdng7emQG"
      },
      "source": [
        "from matplotlib import pyplot as plt\n",
        "x = [1,2,3,4,5,6,7,8,9]\n",
        "y = [10,2,3,6,4,9,7,4,2]\n",
        "x2 = [1,2,3,4,5,6,7,8,9]\n",
        "y2 = [2,4,7,9,5,3,8,10,2]\n",
        "\n",
        "plt.subplot(2, 1, 1)\n",
        "plt.title(\"Subplot 1\")\n",
        "plt.plot(x,y,'r')\n",
        "\n",
        "plt.subplot(2, 1, 2)\n",
        "plt.plot(x2,y2,'g')\n",
        "plt.show()"
      ],
      "execution_count": null,
      "outputs": []
    },
    {
      "cell_type": "markdown",
      "metadata": {
        "id": "uGSndKMN2zG1"
      },
      "source": [
        "# Project-1"
      ]
    },
    {
      "cell_type": "code",
      "metadata": {
        "id": "nJuMrZLJ21ht"
      },
      "source": [
        "import pandas as pd"
      ],
      "execution_count": null,
      "outputs": []
    },
    {
      "cell_type": "code",
      "metadata": {
        "id": "Y_uN1RDk27__"
      },
      "source": [
        "dataset = pd.read_csv('dataset.csv')"
      ],
      "execution_count": null,
      "outputs": []
    },
    {
      "cell_type": "code",
      "metadata": {
        "id": "ETHwSkjj29-b"
      },
      "source": [
        "X = dataset.iloc[:, :-1].values\n",
        "X"
      ],
      "execution_count": null,
      "outputs": []
    },
    {
      "cell_type": "code",
      "metadata": {
        "id": "wAeNkLAr3AFr"
      },
      "source": [
        "Y = dataset.iloc[:, -1].values\n",
        "Y"
      ],
      "execution_count": null,
      "outputs": []
    },
    {
      "cell_type": "code",
      "metadata": {
        "id": "TSRdBShd3mfP"
      },
      "source": [
        "import matplotlib.pyplot as plt\n",
        "plt.scatter(X,Y, color=\"red\")\n",
        "plt.title(\"Data Visualization\")\n",
        "plt.xlabel(\"Level\")\n",
        "plt.ylabel(\"Salary\")\n",
        "plt.show()"
      ],
      "execution_count": null,
      "outputs": []
    },
    {
      "cell_type": "code",
      "metadata": {
        "id": "_WBztH1B3CXL"
      },
      "source": [
        "from sklearn.linear_model import LinearRegression\n",
        "modelLR = LinearRegression()\n",
        "modelLR.fit(X,Y)"
      ],
      "execution_count": null,
      "outputs": []
    },
    {
      "cell_type": "code",
      "metadata": {
        "id": "nFFvwPkp3D7U"
      },
      "source": [
        "import matplotlib.pyplot as plt\n",
        "plt.scatter(X,Y, color=\"red\")\n",
        "plt.plot(X, modelLR.predict(X))\n",
        "plt.title(\"Linear Regression\")\n",
        "plt.xlabel(\"Level\")\n",
        "plt.ylabel(\"Salary\")\n",
        "plt.show()"
      ],
      "execution_count": null,
      "outputs": []
    }
  ]
}