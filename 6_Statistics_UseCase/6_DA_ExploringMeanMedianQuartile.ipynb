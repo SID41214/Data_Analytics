{
  "nbformat": 4,
  "nbformat_minor": 0,
  "metadata": {
    "colab": {
      "name": "6_DA_ExploringMeanMedianQuartile.ipynb",
      "provenance": [],
      "collapsed_sections": []
    },
    "kernelspec": {
      "name": "python3",
      "display_name": "Python 3"
    },
    "language_info": {
      "name": "python"
    }
  },
  "cells": [
    {
      "cell_type": "markdown",
      "metadata": {
        "id": "4MPZ8TUEss23"
      },
      "source": [
        "###6_Exploring Mean, Median, Quartile\n"
      ]
    },
    {
      "cell_type": "markdown",
      "metadata": {
        "id": "fjRzEkJgvD9j"
      },
      "source": [
        "### Import Library"
      ]
    },
    {
      "cell_type": "code",
      "metadata": {
        "id": "jra1vn02kLzq"
      },
      "source": [
        "import pandas as pd #useful for loading the dataset"
      ],
      "execution_count": null,
      "outputs": []
    },
    {
      "cell_type": "markdown",
      "metadata": {
        "id": "Av0sYcsgvJZw"
      },
      "source": [
        "### Load Dataset from Local Directory"
      ]
    },
    {
      "cell_type": "code",
      "metadata": {
        "id": "mkLPVWPAnrZN"
      },
      "source": [
        "from google.colab import files\n",
        "uploaded = files.upload()"
      ],
      "execution_count": null,
      "outputs": []
    },
    {
      "cell_type": "markdown",
      "metadata": {
        "id": "g2k8VuX3vRqG"
      },
      "source": [
        "### Load Dataset"
      ]
    },
    {
      "cell_type": "code",
      "metadata": {
        "id": "64PbCQu2oHmZ"
      },
      "source": [
        "dataset = pd.read_csv('Dataset.csv')\n",
        "datasetwithNaN = dataset\n",
        "dataset"
      ],
      "execution_count": null,
      "outputs": []
    },
    {
      "cell_type": "markdown",
      "metadata": {
        "id": "Fua0gL0AvZNo"
      },
      "source": [
        "### Load Summarize"
      ]
    },
    {
      "cell_type": "code",
      "metadata": {
        "id": "Z-Z5RLwavYBN"
      },
      "source": [
        "print(dataset.shape)\n",
        "print(dataset.describe())"
      ],
      "execution_count": null,
      "outputs": []
    },
    {
      "cell_type": "markdown",
      "metadata": {
        "id": "fwVuwQGWtmj9"
      },
      "source": [
        "###Checking for NaN Values"
      ]
    },
    {
      "cell_type": "code",
      "metadata": {
        "id": "y-MnCemFtqLq"
      },
      "source": [
        "dataset.isna().any()"
      ],
      "execution_count": null,
      "outputs": []
    },
    {
      "cell_type": "markdown",
      "metadata": {
        "id": "e6RDnwGivIOj"
      },
      "source": [
        "### Filling NaN values with the Mean  \n",
        "###Problem - New value becomes high coz of outlier (Large value scale)"
      ]
    },
    {
      "cell_type": "code",
      "metadata": {
        "id": "iTpv7eM8upjb"
      },
      "source": [
        "MeandatasetNotNan = dataset.price.fillna(dataset.price.mean())\n",
        "MeandatasetNotNan"
      ],
      "execution_count": null,
      "outputs": []
    },
    {
      "cell_type": "markdown",
      "metadata": {
        "id": "WW0X2p-zvWbX"
      },
      "source": [
        "### Solution - Filling NaN value with Median"
      ]
    },
    {
      "cell_type": "code",
      "metadata": {
        "id": "Ria4u01rvbzu"
      },
      "source": [
        "MediandatasetNotNan = dataset.price.fillna(dataset.price.median())\n",
        "MediandatasetNotNan"
      ],
      "execution_count": null,
      "outputs": []
    },
    {
      "cell_type": "markdown",
      "metadata": {
        "id": "9h7MM0r7vws9"
      },
      "source": [
        "###Identifying and removing the outlier - Huge difference in value \n"
      ]
    },
    {
      "cell_type": "code",
      "metadata": {
        "id": "5LFKSwdj1q7d"
      },
      "source": [
        "dataset.describe()"
      ],
      "execution_count": null,
      "outputs": []
    },
    {
      "cell_type": "code",
      "metadata": {
        "id": "fVsccRkOkyvr"
      },
      "source": [
        "percentile = dataset.price.quantile(1.0)\n",
        "percentile"
      ],
      "execution_count": null,
      "outputs": []
    },
    {
      "cell_type": "code",
      "metadata": {
        "id": "zoyYytImMcla"
      },
      "source": [
        "datasetNoOutlier = dataset[dataset.price<percentile]\n",
        "datasetNoOutlier"
      ],
      "execution_count": null,
      "outputs": []
    }
  ]
}