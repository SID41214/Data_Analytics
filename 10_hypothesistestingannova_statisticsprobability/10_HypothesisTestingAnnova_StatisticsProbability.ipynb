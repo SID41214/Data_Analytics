{
  "nbformat": 4,
  "nbformat_minor": 0,
  "metadata": {
    "colab": {
      "name": "10_HypothesisTestingAnnova_StatisticsProbability.ipynb",
      "provenance": [],
      "collapsed_sections": []
    },
    "kernelspec": {
      "name": "python3",
      "display_name": "Python 3"
    },
    "language_info": {
      "name": "python"
    }
  },
  "cells": [
    {
      "cell_type": "markdown",
      "metadata": {
        "id": "ZmiGEHa1ONmB"
      },
      "source": [
        "#Hypothesis Testing_Statistics & Probability -  Two-Sample Z test\n"
      ]
    },
    {
      "cell_type": "markdown",
      "metadata": {
        "id": "f88YZuH8O3P2"
      },
      "source": [
        "Null Hypothesis: Temperature doesn’t affect COVID Outbreak\n",
        "\n",
        "Alternate Hypothesis: Temperature does affect COVID Outbreak"
      ]
    },
    {
      "cell_type": "markdown",
      "metadata": {
        "id": "pDOkbJoHOhMI"
      },
      "source": [
        "### Importing the basic libraries"
      ]
    },
    {
      "cell_type": "code",
      "metadata": {
        "id": "9ayLpwGuOIkm"
      },
      "source": [
        "import pandas as pd\n",
        "import numpy as np"
      ],
      "execution_count": null,
      "outputs": []
    },
    {
      "cell_type": "markdown",
      "metadata": {
        "id": "36RH2chxO_Ju"
      },
      "source": [
        "### Load Dataset from Local Directory"
      ]
    },
    {
      "cell_type": "code",
      "metadata": {
        "id": "tNJOtRhyOt2T"
      },
      "source": [
        "from google.colab import files\n",
        "uploaded = files.upload()"
      ],
      "execution_count": null,
      "outputs": []
    },
    {
      "cell_type": "code",
      "metadata": {
        "id": "nICV2qMLPEXP"
      },
      "source": [
        "dataset = pd.read_csv('dataset.csv')\n",
        "print(dataset.shape)\n",
        "print(dataset.head(5))"
      ],
      "execution_count": null,
      "outputs": []
    },
    {
      "cell_type": "markdown",
      "metadata": {
        "id": "VbRE9t1XRNXB"
      },
      "source": [
        "### Considering Temperature below 24 as Cold Climate and above 24 as Hot Climate in our dataset"
      ]
    },
    {
      "cell_type": "code",
      "metadata": {
        "id": "f48HcSsJPwR-"
      },
      "source": [
        "dataset['Temp_Cat'] = dataset['Temprature'].apply(lambda x : 0 if x < 24 else 1)\n",
        "datasetModified = dataset[['Confirmed', 'Temp_Cat']]\n",
        "print(datasetModified.head(5))"
      ],
      "execution_count": null,
      "outputs": []
    },
    {
      "cell_type": "code",
      "metadata": {
        "id": "pxCsuDfEPQfg"
      },
      "source": [
        "d1 = datasetModified[(datasetModified['Temp_Cat']==1)]['Confirmed']\n",
        "d2 = datasetModified[(datasetModified['Temp_Cat']==0)]['Confirmed']\n",
        "\n",
        "m1, m2 = d1.mean(), d2.mean()\n",
        "sd1, sd2 = d1.std(), d2.std()\n",
        "n1, n2 = d1.shape[0], d2.shape[0]"
      ],
      "execution_count": null,
      "outputs": []
    },
    {
      "cell_type": "code",
      "metadata": {
        "id": "38ScWe32PThM"
      },
      "source": [
        "from numpy import sqrt, abs, round\n",
        "from scipy.stats import norm\n",
        "def model(X1, X2, sigma1, sigma2, N1, N2): #Two sample Z test\n",
        "    ovr_sigma = sqrt(sigma1**2/N1 + sigma2**2/N2)\n",
        "    z = (X1 - X2)/ovr_sigma\n",
        "    pval = 2*(1 - norm.cdf(abs(z)))\n",
        "    return z, pval\n",
        "z, p = model(m1, m2, sd1, sd2, n1, n2)"
      ],
      "execution_count": null,
      "outputs": []
    },
    {
      "cell_type": "code",
      "metadata": {
        "id": "9aNsi1jXPYvF"
      },
      "source": [
        "z_score = np.round(z,8)\n",
        "p_val = np.round(p,6)\n",
        "\n",
        "if (p_val<0.05):\n",
        "    Hypothesis_Status = 'Reject Null Hypothesis : Significant'\n",
        "else:\n",
        "    Hypothesis_Status = 'Do not reject Null Hypothesis : Not Significant'\n",
        "\n",
        "print (p_val)\n",
        "print (Hypothesis_Status)"
      ],
      "execution_count": null,
      "outputs": []
    }
  ]
}