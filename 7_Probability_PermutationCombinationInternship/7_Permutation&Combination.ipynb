{
  "nbformat": 4,
  "nbformat_minor": 0,
  "metadata": {
    "colab": {
      "name": "7_Permutation&Combination.ipynb",
      "provenance": [],
      "collapsed_sections": []
    },
    "kernelspec": {
      "name": "python3",
      "display_name": "Python 3"
    },
    "language_info": {
      "name": "python"
    }
  },
  "cells": [
    {
      "cell_type": "markdown",
      "metadata": {
        "id": "P6HcBjRxHdb2"
      },
      "source": [
        "# 7_Probability Permutation & Combination\n"
      ]
    },
    {
      "cell_type": "markdown",
      "metadata": {
        "id": "l_h3JZgMH7ZJ"
      },
      "source": [
        "###Permutation - with Length-2"
      ]
    },
    {
      "cell_type": "code",
      "metadata": {
        "id": "DxkcGAcEHOa6"
      },
      "source": [
        "from itertools import permutations\n",
        "count=0\n",
        "data = [1, 2, 3]\n",
        "perm = permutations(data, 2)\n",
        "for i in list(perm):\n",
        "    print (i)\n",
        "    count+=1\n",
        "\n",
        "print(\"Permutation Count: \",count)"
      ],
      "execution_count": null,
      "outputs": []
    },
    {
      "cell_type": "markdown",
      "metadata": {
        "id": "3yv3seI8Jb9-"
      },
      "source": [
        "###Combination - with Length-2"
      ]
    },
    {
      "cell_type": "code",
      "metadata": {
        "id": "opZs6tnTJeTy"
      },
      "source": [
        "from itertools import combinations\n",
        "count=0\n",
        "data = [1, 2, 3]\n",
        "data2 = [2, 1, 3]\n",
        "perm = combinations(data2, 2)\n",
        "for i in list(perm):\n",
        "    print (i)\n",
        "    count+=1\n",
        "\n",
        "print(\"Combination Count: \",count)"
      ],
      "execution_count": null,
      "outputs": []
    },
    {
      "cell_type": "markdown",
      "metadata": {
        "id": "tARmVpRfJ05P"
      },
      "source": [
        "### Combination - with Length-2"
      ]
    },
    {
      "cell_type": "code",
      "metadata": {
        "id": "pII5bxXNJ2Jd"
      },
      "source": [
        "from itertools import combinations_with_replacement as cr\n",
        "count=0\n",
        "data = [1, 2, 3]\n",
        "data2 = [2, 1, 3]\n",
        "perm = cr(data, 2)\n",
        "for i in list(perm):\n",
        "    print (i)\n",
        "    count+=1\n",
        "\n",
        "print(\"Combination with Element Count: \",count)"
      ],
      "execution_count": null,
      "outputs": []
    }
  ]
}