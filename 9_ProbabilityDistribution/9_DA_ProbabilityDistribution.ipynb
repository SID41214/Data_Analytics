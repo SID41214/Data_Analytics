{
  "nbformat": 4,
  "nbformat_minor": 0,
  "metadata": {
    "colab": {
      "name": "9_DA_ProbabilityDistribution.ipynb",
      "provenance": [],
      "collapsed_sections": []
    },
    "kernelspec": {
      "name": "python3",
      "display_name": "Python 3"
    },
    "language_info": {
      "name": "python"
    }
  },
  "cells": [
    {
      "cell_type": "markdown",
      "metadata": {
        "id": "4MPZ8TUEss23"
      },
      "source": [
        "#Probability Distribution\n"
      ]
    },
    {
      "cell_type": "markdown",
      "metadata": {
        "id": "fjRzEkJgvD9j"
      },
      "source": [
        "### Binomial Distribution"
      ]
    },
    {
      "cell_type": "code",
      "metadata": {
        "id": "jra1vn02kLzq"
      },
      "source": [
        "from scipy.stats import binom #scientific python - binomial \n",
        "import matplotlib.pyplot as plt #Graph,charts\n",
        "\n",
        "num_trials = 10\n",
        "heads_probability = .5\n",
        "\n",
        "probs = [binom.pmf(i, num_trials, heads_probability) for i in range(11)] #probability mass function\n",
        "plt.stem(list(range(11)), probs)"
      ],
      "execution_count": null,
      "outputs": []
    },
    {
      "cell_type": "markdown",
      "metadata": {
        "id": "Av0sYcsgvJZw"
      },
      "source": [
        "### Poisson distribution"
      ]
    },
    {
      "cell_type": "code",
      "metadata": {
        "id": "mkLPVWPAnrZN"
      },
      "source": [
        "from scipy.stats import poisson\n",
        "rate = 3.3\n",
        "\n",
        "probs = [poisson.pmf(i, rate) for i in range(15)] #probability mass function\n",
        "plt.stem(list(range(15)), probs)"
      ],
      "execution_count": null,
      "outputs": []
    }
  ]
}