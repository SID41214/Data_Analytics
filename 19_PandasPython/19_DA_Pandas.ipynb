{
  "nbformat": 4,
  "nbformat_minor": 0,
  "metadata": {
    "colab": {
      "name": "19_DA_Pandas.ipynb",
      "provenance": [],
      "collapsed_sections": []
    },
    "kernelspec": {
      "name": "python3",
      "display_name": "Python 3"
    },
    "language_info": {
      "name": "python"
    }
  },
  "cells": [
    {
      "cell_type": "markdown",
      "metadata": {
        "id": "tT1dKGUpOtLK"
      },
      "source": [
        "# 19_DA_Pandas"
      ]
    },
    {
      "cell_type": "markdown",
      "metadata": {
        "id": "WtIF2hbgZQB4"
      },
      "source": [
        "### Import Library"
      ]
    },
    {
      "cell_type": "code",
      "metadata": {
        "id": "dmEdARG_ORZd"
      },
      "source": [
        "!pip install pandas\n",
        "import pandas\n",
        "pandas.__version__"
      ],
      "execution_count": null,
      "outputs": []
    },
    {
      "cell_type": "markdown",
      "metadata": {
        "id": "DJiSw87ubkda"
      },
      "source": [
        "###Loading Data-Series"
      ]
    },
    {
      "cell_type": "code",
      "metadata": {
        "id": "H2ChyGigb-FQ"
      },
      "source": [
        "import pandas as pd\n",
        "a = [7,9,4]\n",
        "dataset = pd.Series(a)\n",
        "print(dataset)"
      ],
      "execution_count": null,
      "outputs": []
    },
    {
      "cell_type": "code",
      "metadata": {
        "id": "xZSd-5_cbjmV"
      },
      "source": [
        "import pandas as pd\n",
        "a = [7,9,4]\n",
        "dataset = pd.Series(a, index = [\"No.1\",\"No.2\",\"No.3\"])\n",
        "print(dataset)"
      ],
      "execution_count": null,
      "outputs": []
    },
    {
      "cell_type": "markdown",
      "metadata": {
        "id": "EOvoRMP_ZWHy"
      },
      "source": [
        "###Loading Data-DataFrame"
      ]
    },
    {
      "cell_type": "code",
      "metadata": {
        "id": "qZ-CmzZlaXrK"
      },
      "source": [
        "import pandas as pd\n",
        "data = {\"Name\":[\"Champ\",\"Mr.X\",\"Mr.y\"],\"Color\":[\"Red\",\"Black\",\"White\"]}\n",
        "dataset = pd.DataFrame(data)\n",
        "print(dataset)"
      ],
      "execution_count": null,
      "outputs": []
    },
    {
      "cell_type": "markdown",
      "metadata": {
        "id": "UL7Hduo4clxz"
      },
      "source": [
        "###Loading Dataset from File"
      ]
    },
    {
      "cell_type": "code",
      "metadata": {
        "id": "p8RELX6XcokR"
      },
      "source": [
        "import pandas as pd\n",
        "dataset1 = pd.read_csv(\"dataset.csv\")\n",
        "print(dataset1.head(5))"
      ],
      "execution_count": null,
      "outputs": []
    },
    {
      "cell_type": "code",
      "metadata": {
        "id": "02MULponee_q"
      },
      "source": [
        "import pandas as pd\n",
        "dataset2 = pd.read_excel(\"dataset.xlsx\")\n",
        "print(dataset2.head(5))"
      ],
      "execution_count": null,
      "outputs": []
    },
    {
      "cell_type": "code",
      "metadata": {
        "id": "UrPZdng7emQG"
      },
      "source": [
        "import pandas as pd\n",
        "dataset3 = pd.read_csv(\"dataset.txt\")\n",
        "print(dataset3.head(5))"
      ],
      "execution_count": null,
      "outputs": []
    },
    {
      "cell_type": "markdown",
      "metadata": {
        "id": "v1TYm9zdgFvm"
      },
      "source": [
        "###Dataset Details"
      ]
    },
    {
      "cell_type": "code",
      "metadata": {
        "id": "tKhXNXeUgIyz"
      },
      "source": [
        "print(dataset1.shape) #No.of Rows and Columns\n",
        "print(dataset1.describe()) #Detailed info about Dataset"
      ],
      "execution_count": null,
      "outputs": []
    },
    {
      "cell_type": "markdown",
      "metadata": {
        "id": "94Agx7rqh_v3"
      },
      "source": [
        "###Data Slicing\n"
      ]
    },
    {
      "cell_type": "code",
      "metadata": {
        "id": "8wmmPZtniIHB"
      },
      "source": [
        "print(dataset1.columns) #To get only Column Title\n",
        "print(dataset1[\"Name\"]) #To get data based on the specific Title\n",
        "print(dataset1[[\"Name\",\"Speed\"]]) #To get data based on the multiple Title\n",
        "print(dataset1[\"Name\"][0:6]) #To get data based on the specific Title with Specific Count"
      ],
      "execution_count": null,
      "outputs": []
    },
    {
      "cell_type": "code",
      "metadata": {
        "id": "Jk4_xm4Ajbgx"
      },
      "source": [
        "print(dataset1.iloc[0]) #integer location-acquire complete info about certain index\n",
        "print(dataset1.iloc[1:5]) #acquire complete info about range of index\n",
        "print(dataset1.iloc[1,2]) #acquire specific cell data"
      ],
      "execution_count": null,
      "outputs": []
    },
    {
      "cell_type": "code",
      "metadata": {
        "id": "CIkWC7mnkz2h"
      },
      "source": [
        "for index,row in dataset1.iterrows():\n",
        "  print(index,row[\"Name\"])                    "
      ],
      "execution_count": null,
      "outputs": []
    },
    {
      "cell_type": "markdown",
      "metadata": {
        "id": "ubhb6L7Ul7Ft"
      },
      "source": [
        "###Data Slicing with Filter"
      ]
    },
    {
      "cell_type": "code",
      "metadata": {
        "id": "6lBWl9ERl-r2"
      },
      "source": [
        "print(dataset1.loc[dataset1[\"Type 2\"]>90])"
      ],
      "execution_count": null,
      "outputs": []
    },
    {
      "cell_type": "markdown",
      "metadata": {
        "id": "oMSqP88ImtyF"
      },
      "source": [
        "### Slicing - Sorting Data"
      ]
    },
    {
      "cell_type": "code",
      "metadata": {
        "id": "ZEpMrouzmxW4"
      },
      "source": [
        "dataset1.sort_values([\"Speed\"],ascending=False)"
      ],
      "execution_count": null,
      "outputs": []
    },
    {
      "cell_type": "markdown",
      "metadata": {
        "id": "i_CCdCwhns6C"
      },
      "source": [
        "###Editing Data"
      ]
    },
    {
      "cell_type": "code",
      "metadata": {
        "id": "HTvpCFxPnuy5"
      },
      "source": [
        "dataset1[\"Power\"] = dataset1[\"HP\"] + dataset1[\"Attack\"]\n",
        "print(dataset1.head(5))"
      ],
      "execution_count": null,
      "outputs": []
    },
    {
      "cell_type": "code",
      "metadata": {
        "id": "gWuj4r9doNcy"
      },
      "source": [
        "dataset1 = dataset1.drop(columns=[\"Power\"]) #removing Column\n",
        "print(dataset1.head(5))"
      ],
      "execution_count": null,
      "outputs": []
    },
    {
      "cell_type": "markdown",
      "metadata": {
        "id": "FcbHa5kppDJe"
      },
      "source": [
        "###Save Dataset in new file"
      ]
    },
    {
      "cell_type": "code",
      "metadata": {
        "id": "WvHz4WZtpF5M"
      },
      "source": [
        "dataset1.to_csv(\"newDataset.csv\")\n",
        "dataset1.to_excel(\"newDataset.xlsx\")\n",
        "dataset1.to_csv(\"newDataset.csv\",index=False, sep=\"\\t\")"
      ],
      "execution_count": null,
      "outputs": []
    },
    {
      "cell_type": "markdown",
      "metadata": {
        "id": "Yed1nWuiq0I9"
      },
      "source": [
        "### Checking Null values in Dataset"
      ]
    },
    {
      "cell_type": "code",
      "metadata": {
        "id": "7ymmGgTrq3B3"
      },
      "source": [
        "dataset1.isna().any()"
      ],
      "execution_count": null,
      "outputs": []
    },
    {
      "cell_type": "markdown",
      "metadata": {
        "id": "RFvEItlgthDc"
      },
      "source": [
        "###Acquiring Dataset without NaN Value, by removing the entire column"
      ]
    },
    {
      "cell_type": "code",
      "metadata": {
        "id": "MF1FB_AJtWUS"
      },
      "source": [
        "dataset1 = dataset1[dataset1[\"Type 2\"].notna()]"
      ],
      "execution_count": null,
      "outputs": []
    },
    {
      "cell_type": "markdown",
      "metadata": {
        "id": "Wnm5Y6E0sBKy"
      },
      "source": [
        "###Filling NaN with mean of that specific Column"
      ]
    },
    {
      "cell_type": "code",
      "metadata": {
        "id": "MRjzZa2ZsINY"
      },
      "source": [
        "MeandatasetNotNan = dataset1[\"Speed\"].fillna(dataset1[\"Speed\"].mean())\n",
        "MeandatasetNotNan"
      ],
      "execution_count": null,
      "outputs": []
    },
    {
      "cell_type": "markdown",
      "metadata": {
        "id": "SsBOTetGt8WR"
      },
      "source": [
        "### Mapping certain Data to another value"
      ]
    },
    {
      "cell_type": "code",
      "metadata": {
        "id": "7qbLc3KJuCAE"
      },
      "source": [
        "print(dataset1.head(5))\n",
        "Generation = set(dataset1['Generation'])\n",
        "dataset1['Generation'] = dataset1['Generation'].map({1: \"one\", 2: \"two\",3: \"three\", 4: \"four\",5: \"five\", 6: \"six\"}).astype(str)\n",
        "print(dataset1.head(5))"
      ],
      "execution_count": null,
      "outputs": []
    }
  ]
}